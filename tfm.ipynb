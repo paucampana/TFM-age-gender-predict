{
 "cells": [
  {
   "cell_type": "code",
   "execution_count": 1,
   "metadata": {
    "_cell_guid": "b1076dfc-b9ad-4769-8c92-a6c4dae69d19",
    "_uuid": "8f2839f25d086af736a60e9eeb907d3b93b6e0e5",
    "execution": {
     "iopub.execute_input": "2021-12-19T15:39:56.476918Z",
     "iopub.status.busy": "2021-12-19T15:39:56.476380Z",
     "iopub.status.idle": "2021-12-19T15:40:02.484260Z",
     "shell.execute_reply": "2021-12-19T15:40:02.483532Z",
     "shell.execute_reply.started": "2021-12-19T15:39:56.476806Z"
    }
   },
   "outputs": [],
   "source": [
    "# This Python 3 environment comes with many helpful analytics libraries installed\n",
    "# It is defined by the kaggle/python Docker image: https://github.com/kaggle/docker-python\n",
    "\n",
    "# packages to load\n",
    "\n",
    "import numpy as np # linear algebra\n",
    "import pandas as pd # data processing, CSV file I/O (e.g. pd.read_csv)\n",
    "import os\n",
    "import matplotlib.pyplot as plt\n",
    "import cv2\n",
    "import seaborn as sns\n",
    "from PIL import Image\n",
    "import tensorflow as tf\n",
    "from tensorflow.keras.utils import to_categorical\n",
    "from sklearn.model_selection import train_test_split\n",
    "from tensorflow.keras.applications import EfficientNetB0, EfficientNetB1, EfficientNetB2, EfficientNetB3, EfficientNetB4, EfficientNetB5, EfficientNetB6, EfficientNetB7\n",
    "from tensorflow.keras import models, layers\n",
    "from tensorflow.keras.layers import Input, Dense, Flatten\n",
    "from tensorflow.keras.models import Model\n",
    "from tensorflow.keras.callbacks import ModelCheckpoint, EarlyStopping\n",
    "from tensorflow.keras import utils\n",
    "from tensorflow.keras.optimizers import Adam\n",
    "from tensorflow.keras.preprocessing.image import ImageDataGenerator\n",
    "from tensorflow.keras.preprocessing.image import img_to_array\n",
    "import math\n",
    "from tensorflow.keras.models import Sequential\n",
    "from tensorflow.keras import layers"
   ]
  },
  {
   "cell_type": "markdown",
   "metadata": {},
   "source": [
    "We define some parameters that can be changed in order to have different behaviours in the code."
   ]
  },
  {
   "cell_type": "code",
   "execution_count": 2,
   "metadata": {
    "execution": {
     "iopub.execute_input": "2021-12-19T15:40:02.486495Z",
     "iopub.status.busy": "2021-12-19T15:40:02.486256Z",
     "iopub.status.idle": "2021-12-19T15:40:02.494288Z",
     "shell.execute_reply": "2021-12-19T15:40:02.491817Z",
     "shell.execute_reply.started": "2021-12-19T15:40:02.486463Z"
    }
   },
   "outputs": [],
   "source": [
    "#Parameters\n",
    "DIR_UTKFace=\"../input/utkface-new/UTKFace\"\n",
    "IMG_SIZE = 224 \n",
    "\n",
    "#set SMALL_DATASET to use reduced dataset in order to be faster with tests. Otherwise set to NORMAL_DATASET\n",
    "MODE=\"NORMAL_DATASET\"\n",
    "\n",
    "TRAIN_SPLIT = 0.8  \n",
    "VALID_TEST_SPLIT = 0.8\n",
    "\n",
    "#imagenet or noisy-student\n",
    "WEIGHTS = 'imagenet'\n",
    "\n",
    "BATCH_SIZE = 32"
   ]
  },
  {
   "cell_type": "markdown",
   "metadata": {},
   "source": [
    "# Study of the dataset\n",
    "\n",
    "## Import data\n",
    "\n",
    "We get the data from the *DIR_UTKFace* directory and we create a dataframe with three atributes: age, gender and file_name. First we define some functions that we will need for getting the information of the person of a picture, and also other functions to preview the images."
   ]
  },
  {
   "cell_type": "code",
   "execution_count": 3,
   "metadata": {
    "execution": {
     "iopub.execute_input": "2021-12-19T15:40:02.499292Z",
     "iopub.status.busy": "2021-12-19T15:40:02.498791Z",
     "iopub.status.idle": "2021-12-19T15:40:02.514432Z",
     "shell.execute_reply": "2021-12-19T15:40:02.513681Z",
     "shell.execute_reply.started": "2021-12-19T15:40:02.499254Z"
    }
   },
   "outputs": [],
   "source": [
    "#For gender we get a numeric value. Male = 0, Female = 1\n",
    "GENDER_MAP=['M','F']\n",
    "\n",
    "#Get age and gender from image file name\n",
    "def get_info_from_image(image_file_name):\n",
    "    age=int(image_file_name.split('_')[0])\n",
    "    gender=int(image_file_name.split('_')[1])\n",
    "    return age, gender\n",
    "\n",
    "#get image from filename and directory\n",
    "def get_image(file_name):\n",
    "    img_dir=file_name\n",
    "    image=cv2.imread(img_dir)\n",
    "    image = cv2.cvtColor(image, cv2.COLOR_BGR2RGB)\n",
    "    image = cv2.resize(image,(IMG_SIZE,IMG_SIZE))\n",
    "    return image\n",
    "  \n",
    "#Preview image with gender and age from dataframe\n",
    "def preview_random_images(df, with_predictions, with_gender=False, with_age=False):\n",
    "    samples = 25\n",
    "    if len(df) < samples:\n",
    "        samples = len(df)\n",
    "    \n",
    "    df_sample = df.sample(samples) \n",
    "    plt.figure(figsize=(20,20))\n",
    "    for i in range(len(df_sample.index)):\n",
    "        plt.subplot(5,5,i+1)\n",
    "        plt.axis('off')\n",
    "        image = get_image(np.array(df_sample['file_name'])[i])\n",
    "        plt.imshow(image)     \n",
    "        title = \"Real: \"\n",
    "        if with_gender:\n",
    "            gender = GENDER_MAP[np.array(df_sample['gender'])[i]]\n",
    "            title = title + gender\n",
    "        if with_age:\n",
    "            age = np.array(df_sample['age'])[i]\n",
    "            title = title + \"(\" + str(age) + \")\"\n",
    "        if ((not with_age) and (not with_gender)):\n",
    "            gender = GENDER_MAP[np.array(df_sample['gender'])[i]]\n",
    "            title = title + gender\n",
    "            age = np.array(df_sample['age'])[i]\n",
    "            title = title + \"(\" + str(age) + \")\"         \n",
    "        if with_predictions:\n",
    "            title += \" Pred: \"\n",
    "            if with_gender:\n",
    "                gender = GENDER_MAP[np.array(df_sample['gender_pred'])[i]]\n",
    "                title = title + gender\n",
    "            if with_age:\n",
    "                age = np.array(df_sample['age_pred'])[i]\n",
    "                title = title + \" (\" + str(round(age)) + \")\"\n",
    "        plt.title(title)\n"
   ]
  },
  {
   "cell_type": "markdown",
   "metadata": {},
   "source": [
    "We list all the files in DIR_UTKFace directory. For each of these files, we get the information and we construct the dataframe df"
   ]
  },
  {
   "cell_type": "code",
   "execution_count": 4,
   "metadata": {
    "execution": {
     "iopub.execute_input": "2021-12-19T15:40:02.517606Z",
     "iopub.status.busy": "2021-12-19T15:40:02.516995Z",
     "iopub.status.idle": "2021-12-19T15:40:03.178166Z",
     "shell.execute_reply": "2021-12-19T15:40:03.177428Z",
     "shell.execute_reply.started": "2021-12-19T15:40:02.517569Z"
    }
   },
   "outputs": [],
   "source": [
    "files_names=os.listdir(DIR_UTKFace)\n",
    "\n",
    "all_ages = []\n",
    "all_genders = []\n",
    "all_file_names = []\n",
    "\n",
    "\n",
    "for file_name in files_names:\n",
    "    \n",
    "    #check that all images are jpg format\n",
    "    if \".jpg\" not in file_name:\n",
    "        raise RuntimeError(\"Format not expected: \"+ file_name)\n",
    "    \n",
    "    age, gender = get_info_from_image(file_name)\n",
    "    \n",
    "    all_ages.append(age)\n",
    "    all_genders.append(gender)\n",
    "    all_file_names.append(DIR_UTKFace + \"/\" + file_name)\n",
    "    \n",
    "    \n",
    "dataset_images = {'age': all_ages, \n",
    "                  'gender': all_genders, \n",
    "                  'file_name': all_file_names}\n",
    "\n",
    "df = pd.DataFrame(data=dataset_images)"
   ]
  },
  {
   "cell_type": "code",
   "execution_count": 5,
   "metadata": {
    "execution": {
     "iopub.execute_input": "2021-12-19T15:40:03.180304Z",
     "iopub.status.busy": "2021-12-19T15:40:03.179770Z",
     "iopub.status.idle": "2021-12-19T15:40:03.184439Z",
     "shell.execute_reply": "2021-12-19T15:40:03.183781Z",
     "shell.execute_reply.started": "2021-12-19T15:40:03.180265Z"
    }
   },
   "outputs": [],
   "source": [
    "# SMALL_DATASET is used to reduced dataset in order to be faster with tests.\n",
    "if MODE == \"SMALL_DATASET\":\n",
    "    df = df.head(100)\n",
    "    EPOCHS = 3"
   ]
  },
  {
   "cell_type": "markdown",
   "metadata": {},
   "source": [
    "## Preview data\n",
    "\n",
    "Now that we have the dataframe, we can explore the first rows"
   ]
  },
  {
   "cell_type": "code",
   "execution_count": 6,
   "metadata": {
    "execution": {
     "iopub.execute_input": "2021-12-19T15:40:03.186580Z",
     "iopub.status.busy": "2021-12-19T15:40:03.186050Z",
     "iopub.status.idle": "2021-12-19T15:40:03.209940Z",
     "shell.execute_reply": "2021-12-19T15:40:03.209332Z",
     "shell.execute_reply.started": "2021-12-19T15:40:03.186531Z"
    }
   },
   "outputs": [],
   "source": [
    "df.head()"
   ]
  },
  {
   "cell_type": "markdown",
   "metadata": {},
   "source": [
    "We can preview some images with their age and gender."
   ]
  },
  {
   "cell_type": "code",
   "execution_count": 7,
   "metadata": {
    "execution": {
     "iopub.execute_input": "2021-12-19T15:40:03.211411Z",
     "iopub.status.busy": "2021-12-19T15:40:03.211175Z",
     "iopub.status.idle": "2021-12-19T15:40:05.616201Z",
     "shell.execute_reply": "2021-12-19T15:40:05.615422Z",
     "shell.execute_reply.started": "2021-12-19T15:40:03.211379Z"
    }
   },
   "outputs": [],
   "source": [
    "preview_random_images(df, False)"
   ]
  },
  {
   "cell_type": "markdown",
   "metadata": {},
   "source": [
    "## Cleaning data\n",
    "We check if the dataframe contains nulls in order to treat them"
   ]
  },
  {
   "cell_type": "code",
   "execution_count": 8,
   "metadata": {
    "execution": {
     "iopub.execute_input": "2021-12-19T15:40:05.617595Z",
     "iopub.status.busy": "2021-12-19T15:40:05.617317Z",
     "iopub.status.idle": "2021-12-19T15:40:06.147067Z",
     "shell.execute_reply": "2021-12-19T15:40:06.146371Z",
     "shell.execute_reply.started": "2021-12-19T15:40:05.617555Z"
    }
   },
   "outputs": [],
   "source": [
    "#age checks\n",
    "for i in range(len(df.index)):\n",
    "    age = df['age'][i]\n",
    "    if type(age) != np.int64:\n",
    "        raise RuntimeError(\"Age not expected: \"+ str(age))\n",
    "df_age_nan  = df[df['age'].isna()]\n",
    "print(\"Total rows with NaN in age field: \" + str(df_age_nan.age.count()))\n",
    "\n",
    "\n",
    "#gender checks\n",
    "for i in range(len(df.index)):\n",
    "    gender = df['gender'][i]\n",
    "    if gender != 0 and gender != 1:\n",
    "        raise RuntimeError(\"Gender not expected: \"+ gender)\n",
    "df_gender_nan = df[df['gender'].isna()]\n",
    "print(\"Total rows with NaN in gender field: \" + str(df_gender_nan.gender.count()))\n",
    "\n",
    "\n",
    "#file_name checks\n",
    "for i in range(len(df.index)):\n",
    "    file_name = df['file_name'][i]\n",
    "    if \".jpg\" not in file_name:\n",
    "        raise RuntimeError(\"Format not expected: \"+ file_name)\n",
    "df_file_name_nan = df[df['file_name'].isna()]\n",
    "print(\"Total rows with null value in file_name field: \" + str(df_file_name_nan.file_name.count()))"
   ]
  },
  {
   "cell_type": "markdown",
   "metadata": {},
   "source": [
    "## Data exploration\n",
    "\n",
    "We describe the dataframe to get more information about it."
   ]
  },
  {
   "cell_type": "markdown",
   "metadata": {},
   "source": [
    "### Exploration for gender"
   ]
  },
  {
   "cell_type": "code",
   "execution_count": 9,
   "metadata": {
    "execution": {
     "iopub.execute_input": "2021-12-19T15:40:06.148564Z",
     "iopub.status.busy": "2021-12-19T15:40:06.148331Z",
     "iopub.status.idle": "2021-12-19T15:40:06.161177Z",
     "shell.execute_reply": "2021-12-19T15:40:06.160255Z",
     "shell.execute_reply.started": "2021-12-19T15:40:06.148534Z"
    }
   },
   "outputs": [],
   "source": [
    "df['gender'].describe()"
   ]
  },
  {
   "cell_type": "code",
   "execution_count": 10,
   "metadata": {
    "execution": {
     "iopub.execute_input": "2021-12-19T15:40:06.165038Z",
     "iopub.status.busy": "2021-12-19T15:40:06.164824Z",
     "iopub.status.idle": "2021-12-19T15:40:06.278647Z",
     "shell.execute_reply": "2021-12-19T15:40:06.277788Z",
     "shell.execute_reply.started": "2021-12-19T15:40:06.165013Z"
    }
   },
   "outputs": [],
   "source": [
    "num_images = df.gender.count()\n",
    "num_images_male_gender = df.groupby('gender').get_group(0).gender.count() \n",
    "num_images_female_gender = df.groupby('gender').get_group(1).gender.count() \n",
    "percentage_male_gender = (num_images_male_gender * 100)/num_images\n",
    "percentage_female_gender = (num_images_female_gender * 100)/num_images\n",
    "print(\"MALE gender: \" + str(round(percentage_male_gender)) + \"% (\" + str(num_images_male_gender) + \" images)\")\n",
    "print(\"FEMALE gender: \" + str(round(percentage_female_gender)) + \"% (\" + str(num_images_female_gender) + \" images)\")\n",
    "\n",
    "df.gender.value_counts().plot(kind='pie', labels=GENDER_MAP)\n",
    "plt.title('Gender distribution')"
   ]
  },
  {
   "cell_type": "markdown",
   "metadata": {},
   "source": [
    "### Exploration for age"
   ]
  },
  {
   "cell_type": "code",
   "execution_count": 11,
   "metadata": {
    "execution": {
     "iopub.execute_input": "2021-12-19T15:40:06.280325Z",
     "iopub.status.busy": "2021-12-19T15:40:06.280059Z",
     "iopub.status.idle": "2021-12-19T15:40:06.292143Z",
     "shell.execute_reply": "2021-12-19T15:40:06.290853Z",
     "shell.execute_reply.started": "2021-12-19T15:40:06.280290Z"
    }
   },
   "outputs": [],
   "source": [
    "df['age'].describe()"
   ]
  },
  {
   "cell_type": "code",
   "execution_count": 12,
   "metadata": {
    "execution": {
     "iopub.execute_input": "2021-12-19T15:40:06.293918Z",
     "iopub.status.busy": "2021-12-19T15:40:06.293629Z",
     "iopub.status.idle": "2021-12-19T15:40:06.883561Z",
     "shell.execute_reply": "2021-12-19T15:40:06.882879Z",
     "shell.execute_reply.started": "2021-12-19T15:40:06.293863Z"
    }
   },
   "outputs": [],
   "source": [
    "maxAge = df['age'].max()\n",
    "print(\"Older person has \" + str(maxAge) + \" years old\") \n",
    "\n",
    "sns.histplot(data=df, x='age', kde=True, bins=maxAge).set_title('Age Distribution')"
   ]
  },
  {
   "cell_type": "code",
   "execution_count": 13,
   "metadata": {
    "execution": {
     "iopub.execute_input": "2021-12-19T15:40:06.885071Z",
     "iopub.status.busy": "2021-12-19T15:40:06.884742Z",
     "iopub.status.idle": "2021-12-19T15:40:07.508855Z",
     "shell.execute_reply": "2021-12-19T15:40:07.508193Z",
     "shell.execute_reply.started": "2021-12-19T15:40:06.885029Z"
    }
   },
   "outputs": [],
   "source": [
    "sns.kdeplot(data=df, x=\"age\")\n",
    "sns.kdeplot(data=df.groupby('gender').get_group(0), x=\"age\")\n",
    "sns.kdeplot(data=df.groupby('gender').get_group(1), x=\"age\")\n",
    "plt.legend(labels=[\"All\", \"Male\", \"Female\"])\n",
    "plt.title(\"Age distribution by gender\")"
   ]
  },
  {
   "cell_type": "code",
   "execution_count": 14,
   "metadata": {
    "execution": {
     "iopub.execute_input": "2021-12-19T15:40:07.510659Z",
     "iopub.status.busy": "2021-12-19T15:40:07.510215Z",
     "iopub.status.idle": "2021-12-19T15:40:07.797138Z",
     "shell.execute_reply": "2021-12-19T15:40:07.796430Z",
     "shell.execute_reply.started": "2021-12-19T15:40:07.510620Z"
    }
   },
   "outputs": [],
   "source": [
    "_, (ax1, ax2) = plt.subplots(1, 2, figsize=(10, 5))\n",
    "sns.boxplot(data=df, x='gender', y='age', ax=ax1)\n",
    "sns.boxplot(data=df, y='age', ax=ax2)"
   ]
  },
  {
   "cell_type": "markdown",
   "metadata": {},
   "source": [
    "As we can see in the boxplots we have outliers with the older people. As the model will not have enough information to be trained for these ages, we can expect worst behaviours in the prediction of this ages"
   ]
  },
  {
   "cell_type": "markdown",
   "metadata": {},
   "source": [
    "# Generating the model for gender\n"
   ]
  },
  {
   "cell_type": "code",
   "execution_count": 16,
   "metadata": {
    "execution": {
     "iopub.execute_input": "2021-12-19T15:40:07.804817Z",
     "iopub.status.busy": "2021-12-19T15:40:07.804106Z",
     "iopub.status.idle": "2021-12-19T15:40:07.812476Z",
     "shell.execute_reply": "2021-12-19T15:40:07.811743Z",
     "shell.execute_reply.started": "2021-12-19T15:40:07.804778Z"
    }
   },
   "outputs": [],
   "source": [
    "def plot_hist(hist):\n",
    "    plt.plot(hist.history[\"binary_accuracy\"])\n",
    "    plt.plot(hist.history[\"val_binary_accuracy\"])\n",
    "    plt.title(\"model accuracy\")\n",
    "    plt.ylabel(\"accuracy\")\n",
    "    plt.xlabel(\"epoch\")\n",
    "    plt.legend([\"train\", \"validation\"], loc=\"upper left\")\n",
    "    plt.show()"
   ]
  },
  {
   "cell_type": "code",
   "execution_count": 17,
   "metadata": {
    "execution": {
     "iopub.execute_input": "2021-12-19T15:40:07.814475Z",
     "iopub.status.busy": "2021-12-19T15:40:07.813897Z",
     "iopub.status.idle": "2021-12-19T15:40:09.035310Z",
     "shell.execute_reply": "2021-12-19T15:40:09.033734Z",
     "shell.execute_reply.started": "2021-12-19T15:40:07.814434Z"
    }
   },
   "outputs": [],
   "source": [
    "dataGenerator = ImageDataGenerator(\n",
    "    brightness_range=[0.8,1.2],\n",
    "    horizontal_flip=True\n",
    ")\n",
    "\n",
    "#preview of images generated by the data generator \n",
    "img = get_image(np.array(df['file_name'])[0])\n",
    "data = img_to_array(img)\n",
    "samples = np.expand_dims(data, 0)\n",
    "\n",
    "datagen = dataGenerator\n",
    "it = datagen.flow(samples, batch_size=1)\n",
    "\n",
    "plt.figure(figsize=(20,20))\n",
    "for i in range(20):\n",
    "    plt.subplot(10,10,i+1)\n",
    "    plt.axis('off')\n",
    "    batch = it.next()\n",
    "    image = batch[0].astype('uint8')\n",
    "    plt.imshow(image)"
   ]
  },
  {
   "cell_type": "code",
   "execution_count": 18,
   "metadata": {
    "execution": {
     "iopub.execute_input": "2021-12-19T15:40:09.037267Z",
     "iopub.status.busy": "2021-12-19T15:40:09.036719Z",
     "iopub.status.idle": "2021-12-19T15:40:09.048133Z",
     "shell.execute_reply": "2021-12-19T15:40:09.046813Z",
     "shell.execute_reply.started": "2021-12-19T15:40:09.037228Z"
    }
   },
   "outputs": [],
   "source": [
    "def get_image_from_generator(image_array):\n",
    "    img = np.expand_dims(image_array, 0)\n",
    "    it = datagen.flow(img, batch_size=1)\n",
    "    batch = it.next()\n",
    "    img = batch[0].astype('uint8')\n",
    "    return img\n",
    "\n",
    "def get_data_generator_gender(df, indices, is_train, is_test):\n",
    "\n",
    "    images = list()\n",
    "    genders = list()\n",
    "    while True:\n",
    "        for i in indices:\n",
    "            r = df.iloc[i]\n",
    "            file, gender = r['file_name'], r['gender']\n",
    "            im = Image.open(file)\n",
    "            im = im.resize((IMG_SIZE, IMG_SIZE))\n",
    "            im = np.array(im) / 255.0\n",
    "            if is_train:\n",
    "                im = get_image_from_generator(im)\n",
    "                im = im / 255.0\n",
    "            images.append(im)\n",
    "            genders.append(gender)\n",
    "            if len(images) >= BATCH_SIZE:\n",
    "                yield np.asarray(images), np.asarray(genders)\n",
    "                images = list()\n",
    "                genders = list()\n",
    "        if is_test:\n",
    "            break"
   ]
  },
  {
   "cell_type": "code",
   "execution_count": 19,
   "metadata": {
    "execution": {
     "iopub.execute_input": "2021-12-19T15:40:09.050338Z",
     "iopub.status.busy": "2021-12-19T15:40:09.049838Z",
     "iopub.status.idle": "2021-12-19T15:40:09.063519Z",
     "shell.execute_reply": "2021-12-19T15:40:09.062491Z",
     "shell.execute_reply.started": "2021-12-19T15:40:09.050298Z"
    }
   },
   "outputs": [],
   "source": [
    "p = np.random.permutation(len(df)) \n",
    "train_len = int(len(df) * TRAIN_SPLIT)\n",
    "\n",
    "train_idx = p[:train_len]\n",
    "valid_test_idx = p[train_len:]\n",
    "\n",
    "\n",
    "\n",
    "valid_len = int((len(df)-train_len) * VALID_TEST_SPLIT)\n",
    "valid_idx, test_idx = valid_test_idx[:valid_len], valid_test_idx[valid_len:]\n",
    "\n",
    "print(\"Lenght of original dataset: \" + str(len(df)) + \")\")\n",
    "print(\"Lenght of train dataset: \" + \"(\" + str(len(train_idx)) + \")\")\n",
    "print(\"Lenght of validation dataset: \" + \"(\" + str(len(valid_idx)) + \")\")\n",
    "print(\"Lenght of test dataset: \" + \"(\" + str(len(test_idx)) + \")\")"
   ]
  },
  {
   "cell_type": "code",
   "execution_count": 20,
   "metadata": {
    "execution": {
     "iopub.execute_input": "2021-12-19T15:40:09.065274Z",
     "iopub.status.busy": "2021-12-19T15:40:09.064887Z",
     "iopub.status.idle": "2021-12-19T15:40:13.658242Z",
     "shell.execute_reply": "2021-12-19T15:40:13.657537Z",
     "shell.execute_reply.started": "2021-12-19T15:40:09.065238Z"
    }
   },
   "outputs": [],
   "source": [
    "inputs = Input(shape=(IMG_SIZE, IMG_SIZE, 3)) \n",
    "x = inputs\n",
    "model = EfficientNetB0(weights=WEIGHTS, include_top=False, input_tensor = x)\n",
    "\n",
    "# Freeze the pretrained weights\n",
    "model.trainable = True\n",
    "\n",
    "#for layer in model.layers:\n",
    "#    layer.trainable = True\n",
    "\n",
    "x = layers.GlobalAveragePooling2D(name=\"avg_pool\")(model.output)\n",
    "x = layers.BatchNormalization()(x)\n",
    "\n",
    "top_dropout_rate = 0.2\n",
    "x = layers.Dropout(top_dropout_rate, name=\"top_dropout\")(x)\n",
    "gender_output = Dense(units=1, activation='sigmoid', name='gender_output')(x)\n",
    "\n",
    "model = Model(inputs=inputs, outputs=gender_output,  name=\"EfficientNet\")\n",
    "optimizer = tf.keras.optimizers.Adam(learning_rate=1e-2)\n",
    "model.compile(optimizer=optimizer,   loss='binary_crossentropy', metrics='binary_accuracy')"
   ]
  },
  {
   "cell_type": "code",
   "execution_count": 21,
   "metadata": {
    "execution": {
     "iopub.execute_input": "2021-12-19T15:40:13.659773Z",
     "iopub.status.busy": "2021-12-19T15:40:13.659527Z",
     "iopub.status.idle": "2021-12-19T15:40:13.665577Z",
     "shell.execute_reply": "2021-12-19T15:40:13.664402Z",
     "shell.execute_reply.started": "2021-12-19T15:40:13.659739Z"
    }
   },
   "outputs": [],
   "source": [
    "#Get steps based on lenght of a dataframe and the BATCH\n",
    "def get_steps(lenght_samples, batch_size):\n",
    "    if (lenght_samples % batch_size) > 0 :\n",
    "        return (lenght_samples // batch_size) + 1\n",
    "    else :\n",
    "        return lenght_samples // batch_size\n",
    "\n",
    "    \n",
    "steps_train = get_steps(len(train_idx), BATCH_SIZE)\n",
    "steps_valid = get_steps(len(valid_idx), BATCH_SIZE)"
   ]
  },
  {
   "cell_type": "code",
   "execution_count": 22,
   "metadata": {
    "execution": {
     "iopub.execute_input": "2021-12-19T15:40:13.667590Z",
     "iopub.status.busy": "2021-12-19T15:40:13.667316Z",
     "iopub.status.idle": "2021-12-19T15:41:05.028954Z",
     "shell.execute_reply": "2021-12-19T15:41:05.027188Z",
     "shell.execute_reply.started": "2021-12-19T15:40:13.667553Z"
    }
   },
   "outputs": [],
   "source": [
    "train_gen = get_data_generator_gender(df, train_idx, True, False)\n",
    "valid_gen = get_data_generator_gender(df, valid_idx, False, False)\n",
    "\n",
    "\n",
    "epochs=25\n",
    "history = model.fit_generator(train_gen,\n",
    "                    steps_per_epoch=steps_train,\n",
    "                    epochs=epochs,\n",
    "                    validation_data=valid_gen,\n",
    "                    validation_steps=steps_valid)\n",
    "plot_hist(history)"
   ]
  },
  {
   "cell_type": "code",
   "execution_count": null,
   "metadata": {
    "execution": {
     "iopub.status.busy": "2021-12-19T15:41:05.030352Z",
     "iopub.status.idle": "2021-12-19T15:41:05.030970Z",
     "shell.execute_reply": "2021-12-19T15:41:05.030730Z",
     "shell.execute_reply.started": "2021-12-19T15:41:05.030702Z"
    }
   },
   "outputs": [],
   "source": [
    "def unfreeze_model(model):\n",
    "    # We unfreeze the top 20 layers while leaving BatchNorm layers frozen\n",
    "    for layer in model.layers[-20:]:\n",
    "        if not isinstance(layer, layers.BatchNormalization):\n",
    "            layer.trainable = True\n",
    "\n",
    "    optimizer = tf.keras.optimizers.Adam(learning_rate=1e-4)\n",
    "    model.compile(optimizer=optimizer,   loss='binary_crossentropy', metrics='binary_accuracy')\n",
    "\n",
    "\n",
    "unfreeze_model(model)\n",
    "\n",
    "epochs = 10  # @param {type: \"slider\", min:8, max:50}\n",
    "hist = model.fit_generator(train_gen,\n",
    "                    steps_per_epoch=steps_train,\n",
    "                    epochs=epochs,\n",
    "                    validation_data=valid_gen,\n",
    "                    validation_steps=steps_valid)\n",
    "plot_hist(hist)"
   ]
  },
  {
   "cell_type": "code",
   "execution_count": null,
   "metadata": {
    "execution": {
     "iopub.status.busy": "2021-12-19T15:41:05.033335Z",
     "iopub.status.idle": "2021-12-19T15:41:05.034037Z",
     "shell.execute_reply": "2021-12-19T15:41:05.033800Z",
     "shell.execute_reply.started": "2021-12-19T15:41:05.033777Z"
    }
   },
   "outputs": [],
   "source": [
    "#classification report for train dataset\n",
    "steps_train = get_steps(len(train_idx), BATCH_SIZE)\n",
    "train_gen = get_data_generator_gender(df, train_idx, False, True)\n",
    "gender_predictions = model.predict(train_gen, steps=steps_train)\n",
    "train_gen = get_data_generator_gender(df, train_idx, False, True)\n",
    "gender_evaluated = model.evaluate(train_gen, steps=steps_train)\n",
    "gender_predictions_binary = []\n",
    "for i in range(len(gender_predictions)):\n",
    "    gender_pred = 0 if gender_predictions[i][0] < 0.5 else 1 \n",
    "    gender_predictions_binary.append(gender_pred) \n",
    "gender_true = []\n",
    "for i in range(len(gender_predictions_binary)):\n",
    "    r = df.iloc[train_idx[i]]\n",
    "    gender_real = r['gender']\n",
    "    gender_true.append(gender_real)\n",
    "from sklearn.metrics import classification_report\n",
    "print(\"\\nClassification report for gender (train dataset)\")\n",
    "print(classification_report(gender_true, gender_predictions_binary))"
   ]
  },
  {
   "cell_type": "code",
   "execution_count": null,
   "metadata": {
    "execution": {
     "iopub.status.busy": "2021-12-19T15:41:05.035100Z",
     "iopub.status.idle": "2021-12-19T15:41:05.035605Z",
     "shell.execute_reply": "2021-12-19T15:41:05.035420Z",
     "shell.execute_reply.started": "2021-12-19T15:41:05.035398Z"
    }
   },
   "outputs": [],
   "source": [
    "#classification report for validation dataset\n",
    "steps_valid = get_steps(len(valid_idx), BATCH_SIZE)\n",
    "valid_gen = get_data_generator_gender(df, valid_idx, False, True)\n",
    "gender_predictions = model.predict(valid_gen, steps=steps_valid)\n",
    "valid_gen = get_data_generator_gender(df, valid_idx, False, True)\n",
    "gender_evaluated = model.evaluate(valid_gen, steps=steps_valid)\n",
    "gender_predictions_binary = []\n",
    "for i in range(len(gender_predictions)):\n",
    "    gender_pred = 0 if gender_predictions[i][0] < 0.5 else 1 \n",
    "    gender_predictions_binary.append(gender_pred) \n",
    "gender_true = []\n",
    "for i in range(len(gender_predictions_binary)):\n",
    "    r = df.iloc[valid_idx[i]]\n",
    "    gender_real = r['gender']\n",
    "    gender_true.append(gender_real)\n",
    "from sklearn.metrics import classification_report\n",
    "print(\"\\nClassification report for gender (validation dataset)\")\n",
    "print(classification_report(gender_true, gender_predictions_binary))"
   ]
  },
  {
   "cell_type": "code",
   "execution_count": null,
   "metadata": {
    "execution": {
     "iopub.status.busy": "2021-12-19T15:41:05.037050Z",
     "iopub.status.idle": "2021-12-19T15:41:05.037675Z",
     "shell.execute_reply": "2021-12-19T15:41:05.037453Z",
     "shell.execute_reply.started": "2021-12-19T15:41:05.037396Z"
    }
   },
   "outputs": [],
   "source": [
    "#classification report for test dataset\n",
    "steps_test = get_steps(len(test_idx), BATCH_SIZE)\n",
    "test_gen = get_data_generator_gender(df, test_idx, False, True)\n",
    "gender_predictions = model.predict(test_gen, steps=steps_test)\n",
    "test_gen = get_data_generator_gender(df, test_idx, False, True)\n",
    "gender_evaluated = model.evaluate(test_gen, steps=steps_test)\n",
    "gender_predictions_binary = []\n",
    "for i in range(len(gender_predictions)):\n",
    "    gender_pred = 0 if gender_predictions[i][0] < 0.5 else 1 \n",
    "    gender_predictions_binary.append(gender_pred) \n",
    "gender_true = []\n",
    "for i in range(len(gender_predictions_binary)):\n",
    "    r = df.iloc[test_idx[i]]\n",
    "    gender_real = r['gender']\n",
    "    gender_true.append(gender_real)\n",
    "from sklearn.metrics import classification_report\n",
    "print(\"\\nClassification report for gender (validation dataset)\")\n",
    "print(classification_report(gender_true, gender_predictions_binary))"
   ]
  },
  {
   "cell_type": "code",
   "execution_count": null,
   "metadata": {
    "execution": {
     "iopub.status.busy": "2021-12-19T15:41:05.038883Z",
     "iopub.status.idle": "2021-12-19T15:41:05.039470Z",
     "shell.execute_reply": "2021-12-19T15:41:05.039238Z",
     "shell.execute_reply.started": "2021-12-19T15:41:05.039212Z"
    }
   },
   "outputs": [],
   "source": [
    "#preview images with prediction\n",
    "genders_real = []\n",
    "file_names = []\n",
    "genders_pred = []\n",
    "for i in range(len(gender_predictions)):\n",
    "    r = df.iloc[test_idx[i]]\n",
    "    file_name, gender_real = r['file_name'], r['gender']\n",
    "    gender_pred = 0 if gender_predictions[i][0] < 0.5 else 1    \n",
    "    genders_real.append(gender_real)\n",
    "    file_names.append(file_name)\n",
    "    genders_pred.append(gender_pred) \n",
    "    \n",
    "dataset_images_pred = {'gender': genders_real, \n",
    "                       'gender_pred': genders_pred, \n",
    "                       'file_name': file_names}\n",
    "\n",
    "df_pred = pd.DataFrame(data=dataset_images_pred)\n",
    "preview_random_images(df_pred, True, with_gender=True)"
   ]
  },
  {
   "cell_type": "markdown",
   "metadata": {},
   "source": [
    "# Model for age"
   ]
  },
  {
   "cell_type": "code",
   "execution_count": 23,
   "metadata": {
    "execution": {
     "iopub.execute_input": "2021-12-19T15:41:12.752952Z",
     "iopub.status.busy": "2021-12-19T15:41:12.752666Z",
     "iopub.status.idle": "2021-12-19T15:41:12.763514Z",
     "shell.execute_reply": "2021-12-19T15:41:12.762375Z",
     "shell.execute_reply.started": "2021-12-19T15:41:12.752913Z"
    }
   },
   "outputs": [],
   "source": [
    "def plot_hist(hist):\n",
    "    plt.plot(hist.history[\"mae\"])\n",
    "    plt.plot(hist.history[\"val_mae\"])\n",
    "    plt.title(\"model mae\")\n",
    "    plt.ylabel(\"mae\")\n",
    "    plt.xlabel(\"epoch\")\n",
    "    plt.legend([\"train\", \"validation\"], loc=\"upper left\")\n",
    "    plt.show()\n",
    "\n",
    "\n",
    "def get_data_generator_age(df, indices, is_train, is_test):\n",
    "\n",
    "    images = list()\n",
    "    ages = list()\n",
    "    while True:\n",
    "        for i in indices:\n",
    "            r = df.iloc[i]\n",
    "            file, age = r['file_name'], r['age']\n",
    "            im = Image.open(file)\n",
    "            im = im.resize((IMG_SIZE, IMG_SIZE))\n",
    "            im = np.array(im) / 255.0\n",
    "            if is_train:\n",
    "                im = get_image_from_generator(im)\n",
    "                im = im / 255.0\n",
    "            images.append(im)\n",
    "            age_norm = (age / maxAge)\n",
    "            ages.append(age_norm)\n",
    "            if len(images) >= BATCH_SIZE:\n",
    "                yield np.asarray(images), np.asarray(ages)\n",
    "                images = list()\n",
    "                ages = list()\n",
    "        if is_test:\n",
    "            break"
   ]
  },
  {
   "cell_type": "code",
   "execution_count": 24,
   "metadata": {
    "execution": {
     "iopub.execute_input": "2021-12-19T15:41:15.963681Z",
     "iopub.status.busy": "2021-12-19T15:41:15.963032Z",
     "iopub.status.idle": "2021-12-19T15:41:18.192913Z",
     "shell.execute_reply": "2021-12-19T15:41:18.192201Z",
     "shell.execute_reply.started": "2021-12-19T15:41:15.963638Z"
    }
   },
   "outputs": [],
   "source": [
    "inputs = Input(shape=(IMG_SIZE, IMG_SIZE, 3)) \n",
    "x = inputs\n",
    "model = EfficientNetB0(weights=WEIGHTS, include_top=False, input_tensor = x)\n",
    "\n",
    "# Freeze the pretrained weights\n",
    "model.trainable = True\n",
    "\n",
    "#for layer in model.layers:\n",
    "#    layer.trainable = True\n",
    "\n",
    "x = layers.GlobalAveragePooling2D(name=\"avg_pool\")(model.output)\n",
    "x = layers.BatchNormalization()(x)\n",
    "\n",
    "top_dropout_rate = 0.2\n",
    "x = layers.Dropout(top_dropout_rate, name=\"top_dropout\")(x)\n",
    "age_output = Dense(units=1, activation='linear', name='age_output')(x)\n",
    "\n",
    "model = Model(inputs=inputs, outputs=age_output,  name=\"EfficientNet\")\n",
    "optimizer = tf.keras.optimizers.Adam(learning_rate=1e-2)\n",
    "model.compile(optimizer=optimizer,   loss='mean_squared_error', metrics=['mae'])"
   ]
  },
  {
   "cell_type": "code",
   "execution_count": 25,
   "metadata": {
    "execution": {
     "iopub.execute_input": "2021-12-19T15:41:26.409496Z",
     "iopub.status.busy": "2021-12-19T15:41:26.409241Z",
     "iopub.status.idle": "2021-12-19T16:49:56.082421Z",
     "shell.execute_reply": "2021-12-19T16:49:56.081750Z",
     "shell.execute_reply.started": "2021-12-19T15:41:26.409467Z"
    }
   },
   "outputs": [],
   "source": [
    "train_gen = get_data_generator_age(df, train_idx, True, False)\n",
    "valid_gen = get_data_generator_age(df, valid_idx, False, False)\n",
    "\n",
    "\n",
    "epochs=25\n",
    "history = model.fit_generator(train_gen,\n",
    "                    steps_per_epoch=steps_train,\n",
    "                    epochs=epochs,\n",
    "                    validation_data=valid_gen,\n",
    "                    validation_steps=steps_valid)\n",
    "plot_hist(history)"
   ]
  },
  {
   "cell_type": "markdown",
   "metadata": {},
   "source": []
  },
  {
   "cell_type": "code",
   "execution_count": 28,
   "metadata": {
    "execution": {
     "iopub.execute_input": "2021-12-19T17:19:28.216964Z",
     "iopub.status.busy": "2021-12-19T17:19:28.216685Z",
     "iopub.status.idle": "2021-12-19T17:23:11.253695Z",
     "shell.execute_reply": "2021-12-19T17:23:11.251907Z",
     "shell.execute_reply.started": "2021-12-19T17:19:28.216933Z"
    }
   },
   "outputs": [],
   "source": [
    "def unfreeze_model(model):\n",
    "    # We unfreeze the top 20 layers while leaving BatchNorm layers frozen\n",
    "    for layer in model.layers[-20:]:\n",
    "        if not isinstance(layer, layers.BatchNormalization):\n",
    "            layer.trainable = True\n",
    "\n",
    "    optimizer = tf.keras.optimizers.Adam(learning_rate=1e-4)\n",
    "    model.compile(optimizer=optimizer, loss='mean_squared_error', metrics=['mae'])\n",
    "\n",
    "\n",
    "unfreeze_model(model)\n",
    "\n",
    "epochs = 10  # @param {type: \"slider\", min:8, max:50}\n",
    "hist = model.fit_generator(train_gen,\n",
    "                    steps_per_epoch=steps_train,\n",
    "                    epochs=epochs,\n",
    "                    validation_data=valid_gen,\n",
    "                    validation_steps=steps_valid)\n",
    "plot_hist(hist)"
   ]
  },
  {
   "cell_type": "code",
   "execution_count": 30,
   "metadata": {
    "execution": {
     "iopub.execute_input": "2021-12-19T17:30:22.645052Z",
     "iopub.status.busy": "2021-12-19T17:30:22.644468Z",
     "iopub.status.idle": "2021-12-19T17:30:29.687757Z",
     "shell.execute_reply": "2021-12-19T17:30:29.687089Z",
     "shell.execute_reply.started": "2021-12-19T17:30:22.645015Z"
    }
   },
   "outputs": [],
   "source": [
    "steps_test = get_steps(len(test_idx), BATCH_SIZE)\n",
    "test_gen = get_data_generator_age(df, test_idx, False, True)\n",
    "age_predictions_norm = model.predict(test_gen, steps=steps_test)\n",
    "test_gen = get_data_generator_age(df, test_idx, False, True)\n",
    "age_predictions_evaluate = model.evaluate(test_gen, steps=steps_test)"
   ]
  },
  {
   "cell_type": "code",
   "execution_count": 32,
   "metadata": {
    "execution": {
     "iopub.execute_input": "2021-12-19T17:41:46.437603Z",
     "iopub.status.busy": "2021-12-19T17:41:46.436876Z",
     "iopub.status.idle": "2021-12-19T17:41:46.441413Z",
     "shell.execute_reply": "2021-12-19T17:41:46.440727Z",
     "shell.execute_reply.started": "2021-12-19T17:41:46.437566Z"
    }
   },
   "outputs": [],
   "source": [
    "age_predictions = age_predictions_norm*maxAge"
   ]
  },
  {
   "cell_type": "code",
   "execution_count": 37,
   "metadata": {
    "execution": {
     "iopub.execute_input": "2021-12-19T17:51:27.744323Z",
     "iopub.status.busy": "2021-12-19T17:51:27.744080Z",
     "iopub.status.idle": "2021-12-19T17:51:27.856262Z",
     "shell.execute_reply": "2021-12-19T17:51:27.855504Z",
     "shell.execute_reply.started": "2021-12-19T17:51:27.744296Z"
    }
   },
   "outputs": [],
   "source": [
    "ages_real = []\n",
    "file_names_age = []\n",
    "ages_pred = []\n",
    "for i in range(len(age_predictions)):\n",
    "    r = df.iloc[test_idx[i]]\n",
    "    file_name, age_real = r['file_name'], r['age']\n",
    "    ages_real.append(age_real)\n",
    "    file_names_age.append(file_name)\n",
    "    age_pred = age_predictions[i][0]\n",
    "    ages_pred.append(age_pred)  \n",
    "dataset_images_pred = {'age': ages_real, \n",
    "                       'age_pred': ages_pred, \n",
    "                       'file_name': file_names_age}\n",
    "\n",
    "df_pred = pd.DataFrame(data=dataset_images_pred)"
   ]
  },
  {
   "cell_type": "code",
   "execution_count": 38,
   "metadata": {
    "execution": {
     "iopub.execute_input": "2021-12-19T17:51:34.523457Z",
     "iopub.status.busy": "2021-12-19T17:51:34.522766Z",
     "iopub.status.idle": "2021-12-19T17:52:00.033036Z",
     "shell.execute_reply": "2021-12-19T17:52:00.031837Z",
     "shell.execute_reply.started": "2021-12-19T17:51:34.523414Z"
    }
   },
   "outputs": [],
   "source": [
    "preview_random_images(df_pred, True, with_age=True)"
   ]
  }
 ],
 "metadata": {
  "kernelspec": {
   "display_name": "Python 3",
   "language": "python",
   "name": "python3"
  },
  "language_info": {
   "codemirror_mode": {
    "name": "ipython",
    "version": 3
   },
   "file_extension": ".py",
   "mimetype": "text/x-python",
   "name": "python",
   "nbconvert_exporter": "python",
   "pygments_lexer": "ipython3",
   "version": "3.6.8"
  }
 },
 "nbformat": 4,
 "nbformat_minor": 4
}
